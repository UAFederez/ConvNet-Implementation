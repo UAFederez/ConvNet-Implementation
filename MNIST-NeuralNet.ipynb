{
 "cells": [
  {
   "cell_type": "code",
   "execution_count": 1,
   "id": "826f8ee4-8551-4f54-b72f-b36061d42b62",
   "metadata": {},
   "outputs": [],
   "source": [
    "import numpy as np\n",
    "import tensorflow as tf\n",
    "import seaborn as sns\n",
    "from keras.datasets import mnist"
   ]
  },
  {
   "cell_type": "markdown",
   "id": "35718020-2d01-49e5-8921-dee09912560a",
   "metadata": {},
   "source": [
    "### Loading the MNIST Dataset"
   ]
  },
  {
   "cell_type": "code",
   "execution_count": 2,
   "id": "d8be7bf7-93fc-4325-9876-ee6c0c67f9eb",
   "metadata": {},
   "outputs": [],
   "source": [
    "(X_train, Y_train), (X_test, Y_test) = mnist.load_data()"
   ]
  },
  {
   "cell_type": "code",
   "execution_count": 3,
   "id": "ff2683c5-00c5-47f2-974f-67481e9f1e9b",
   "metadata": {},
   "outputs": [],
   "source": [
    "X_train = X_train.reshape(-1, 784).T / 255.0\n",
    "X_test  = X_test.reshape(-1, 784).T  / 255.0\n",
    "Y_train = tf.keras.utils.to_categorical(Y_train).T\n",
    "Y_test  = tf.keras.utils.to_categorical(Y_test).T"
   ]
  },
  {
   "cell_type": "code",
   "execution_count": 4,
   "id": "2a27efe2-4ef4-49f6-9d0b-24a2be20715a",
   "metadata": {},
   "outputs": [
    {
     "data": {
      "text/plain": [
       "((784, 60000), (10, 60000), (784, 10000), (10, 10000))"
      ]
     },
     "execution_count": 4,
     "metadata": {},
     "output_type": "execute_result"
    }
   ],
   "source": [
    "X_train.shape, Y_train.shape, X_test.shape, Y_test.shape"
   ]
  },
  {
   "cell_type": "markdown",
   "id": "f48162a6-278e-41ee-9751-c524e686f31b",
   "metadata": {},
   "source": [
    "### Initializing the Neural Network"
   ]
  },
  {
   "cell_type": "code",
   "execution_count": 5,
   "id": "2e7b8e62-a869-4878-9a90-a3bcfbfde502",
   "metadata": {},
   "outputs": [],
   "source": [
    "def sigmoid(z):\n",
    "    return 1 / (1 + np.exp(-z))\n",
    "\n",
    "class NeuralNetwork:\n",
    "    def __init__(self, layer_sizes):\n",
    "        self.weights = [ np.random.randn(out, layer_sizes[idx]) / np.sqrt(2 * layer_sizes[idx]) for idx, out in enumerate(layer_sizes[1:]) ]\n",
    "        self.biases  = [ np.zeros((n_bias, 1)) for n_bias in layer_sizes[1:] ]\n",
    "        \n",
    "    def predict(self, X):\n",
    "        a_out = X\n",
    "        for idx, (W, b) in enumerate(zip(self.weights, self.biases)):\n",
    "            z_out = np.dot(W, a_out) + b\n",
    "\n",
    "            if idx < len(self.weights) - 1:\n",
    "                a_out = np.maximum(0, z_out)\n",
    "            else:\n",
    "                a_out = np.exp(z_out) / np.sum(np.exp(z_out), axis = 0)\n",
    "        return a_out\n",
    "        \n",
    "    def fit(self, X, Y, n_epochs, learning_rate):\n",
    "        loss_hist = []\n",
    "        accs_hist = []\n",
    "        \n",
    "        for epoch in range(n_epochs):\n",
    "            z_outs = [ X ]\n",
    "            a_outs = [ X ] # A_0 is the input layer\n",
    "            batch_size = X.shape[1]\n",
    "\n",
    "            # Forward pass\n",
    "            for idx, (W, b) in enumerate(zip(self.weights, self.biases)):\n",
    "                z_out = np.dot(W, a_outs[-1]) + b\n",
    "                \n",
    "                if idx < len(self.weights) - 1:\n",
    "                    a_out = np.maximum(0, z_out)\n",
    "                else:\n",
    "                    a_out = np.exp(z_out) / np.sum(np.exp(z_out), axis = 0)\n",
    "                    \n",
    "                z_outs.append(z_out)\n",
    "                a_outs.append(a_out)\n",
    "\n",
    "            # Compute loss/cost\n",
    "            acc  = np.average(np.argmax(a_outs[-1], axis = 0) == np.argmax(Y, axis = 0))\n",
    "            loss = np.sum(-(Y * np.log(a_outs[-1]) + (1 - Y) * np.log(1 - a_outs[-1])), axis = 0, keepdims = True)\n",
    "            cost = np.average(loss)\n",
    "            loss_hist.append(cost)\n",
    "            accs_hist.append(acc)\n",
    "            print('[epoch {:2}/{:2}] - cost: {:.4f} - accuracy: {:.4f}'.format(epoch + 1, n_epochs, cost, acc))\n",
    "\n",
    "            # Backpropagation\n",
    "            d_weights = []\n",
    "            d_biases  = []\n",
    "\n",
    "            # Assumes softmax output layer for multiclass classification\n",
    "            grad_Zs   = [ a_outs[-1] - Y ]\n",
    "\n",
    "            for (W, b, A, Z) in zip(self.weights[::-1], self.biases[::-1], a_outs[::-1][1:], z_outs[::-1][1:]):\n",
    "                grad_Z   = grad_Zs[-1]\n",
    "                d_weight = np.dot(grad_Z, A.T) / batch_size\n",
    "                d_bias   = np.sum(grad_Z, axis = 1, keepdims = True) / batch_size\n",
    "\n",
    "                # Gradients w.r.t to Z of the next layer backwards\n",
    "                grad_Zn  = np.dot(W.T, grad_Z) * (Z > 0.0)\n",
    "                #print(d_weight.shape, d_bias.shape, grad_Zn.shape)\n",
    "                grad_Zs.append(grad_Zn)\n",
    "                d_weights.insert(0, d_weight)\n",
    "                d_biases.insert(0, d_bias)\n",
    "\n",
    "            # Update step\n",
    "            for idx, (dW, db) in enumerate(zip(d_weights, d_biases)):\n",
    "                self.weights[idx] -= learning_rate * dW\n",
    "                self.biases[idx]  -= learning_rate * db\n",
    "                #print(dW, db)\n",
    "                \n",
    "        return loss_hist, accs_hist"
   ]
  },
  {
   "cell_type": "code",
   "execution_count": 6,
   "id": "e010849c-bb59-49bd-80e3-2da9dd280c9c",
   "metadata": {},
   "outputs": [
    {
     "name": "stdout",
     "output_type": "stream",
     "text": [
      "[epoch  1/50] - cost: 3.2588 - accuracy: 0.0838\n",
      "[epoch  2/50] - cost: 3.1756 - accuracy: 0.3471\n",
      "[epoch  3/50] - cost: 3.0968 - accuracy: 0.5342\n",
      "[epoch  4/50] - cost: 3.0150 - accuracy: 0.6109\n",
      "[epoch  5/50] - cost: 2.9268 - accuracy: 0.6553\n",
      "[epoch  6/50] - cost: 2.8312 - accuracy: 0.6848\n",
      "[epoch  7/50] - cost: 2.7286 - accuracy: 0.7058\n",
      "[epoch  8/50] - cost: 2.6201 - accuracy: 0.7212\n",
      "[epoch  9/50] - cost: 2.5075 - accuracy: 0.7332\n",
      "[epoch 10/50] - cost: 2.3926 - accuracy: 0.7418\n",
      "[epoch 11/50] - cost: 2.2778 - accuracy: 0.7508\n",
      "[epoch 12/50] - cost: 2.1654 - accuracy: 0.7609\n",
      "[epoch 13/50] - cost: 2.0575 - accuracy: 0.7694\n",
      "[epoch 14/50] - cost: 1.9556 - accuracy: 0.7780\n",
      "[epoch 15/50] - cost: 1.8607 - accuracy: 0.7864\n",
      "[epoch 16/50] - cost: 1.7730 - accuracy: 0.7944\n",
      "[epoch 17/50] - cost: 1.6928 - accuracy: 0.8012\n",
      "[epoch 18/50] - cost: 1.6196 - accuracy: 0.8076\n",
      "[epoch 19/50] - cost: 1.5530 - accuracy: 0.8138\n",
      "[epoch 20/50] - cost: 1.4926 - accuracy: 0.8191\n",
      "[epoch 21/50] - cost: 1.4376 - accuracy: 0.8237\n",
      "[epoch 22/50] - cost: 1.3876 - accuracy: 0.8281\n",
      "[epoch 23/50] - cost: 1.3421 - accuracy: 0.8315\n",
      "[epoch 24/50] - cost: 1.3004 - accuracy: 0.8350\n",
      "[epoch 25/50] - cost: 1.2623 - accuracy: 0.8380\n",
      "[epoch 26/50] - cost: 1.2272 - accuracy: 0.8407\n",
      "[epoch 27/50] - cost: 1.1949 - accuracy: 0.8429\n",
      "[epoch 28/50] - cost: 1.1651 - accuracy: 0.8452\n",
      "[epoch 29/50] - cost: 1.1375 - accuracy: 0.8472\n",
      "[epoch 30/50] - cost: 1.1119 - accuracy: 0.8498\n",
      "[epoch 31/50] - cost: 1.0881 - accuracy: 0.8520\n",
      "[epoch 32/50] - cost: 1.0659 - accuracy: 0.8540\n",
      "[epoch 33/50] - cost: 1.0451 - accuracy: 0.8554\n",
      "[epoch 34/50] - cost: 1.0257 - accuracy: 0.8571\n",
      "[epoch 35/50] - cost: 1.0075 - accuracy: 0.8586\n",
      "[epoch 36/50] - cost: 0.9903 - accuracy: 0.8603\n",
      "[epoch 37/50] - cost: 0.9742 - accuracy: 0.8619\n",
      "[epoch 38/50] - cost: 0.9590 - accuracy: 0.8632\n",
      "[epoch 39/50] - cost: 0.9446 - accuracy: 0.8646\n",
      "[epoch 40/50] - cost: 0.9310 - accuracy: 0.8657\n",
      "[epoch 41/50] - cost: 0.9181 - accuracy: 0.8672\n",
      "[epoch 42/50] - cost: 0.9058 - accuracy: 0.8684\n",
      "[epoch 43/50] - cost: 0.8942 - accuracy: 0.8695\n",
      "[epoch 44/50] - cost: 0.8832 - accuracy: 0.8707\n",
      "[epoch 45/50] - cost: 0.8726 - accuracy: 0.8714\n",
      "[epoch 46/50] - cost: 0.8626 - accuracy: 0.8724\n",
      "[epoch 47/50] - cost: 0.8530 - accuracy: 0.8734\n",
      "[epoch 48/50] - cost: 0.8439 - accuracy: 0.8744\n",
      "[epoch 49/50] - cost: 0.8351 - accuracy: 0.8751\n",
      "[epoch 50/50] - cost: 0.8267 - accuracy: 0.8758\n"
     ]
    }
   ],
   "source": [
    "mnist_nn  = NeuralNetwork(layer_sizes = [784, 300, 10])\n",
    "loss, acc = mnist_nn.fit(X_train, Y_train, n_epochs = 50, learning_rate = 0.25)"
   ]
  },
  {
   "cell_type": "code",
   "execution_count": 7,
   "id": "97eaff5c-2b46-45dc-af1e-02204b34798b",
   "metadata": {},
   "outputs": [
    {
     "data": {
      "text/plain": [
       "<AxesSubplot:>"
      ]
     },
     "execution_count": 7,
     "metadata": {},
     "output_type": "execute_result"
    },
    {
     "data": {
      "image/png": "[encoded data removed]",
      "text/plain": [
       "<Figure size 432x288 with 1 Axes>"
      ]
     },
     "metadata": {
      "needs_background": "light"
     },
     "output_type": "display_data"
    }
   ],
   "source": [
    "sns.lineplot(x = np.arange(len(loss)), y = loss)"
   ]
  },
  {
   "cell_type": "code",
   "execution_count": 8,
   "id": "b2d6ca59-3f01-4ad4-b386-34db44f5af68",
   "metadata": {},
   "outputs": [
    {
     "data": {
      "text/plain": [
       "<AxesSubplot:>"
      ]
     },
     "execution_count": 8,
     "metadata": {},
     "output_type": "execute_result"
    },
    {
     "data": {
      "image/png": "[encoded data removed]",
      "text/plain": [
       "<Figure size 432x288 with 1 Axes>"
      ]
     },
     "metadata": {
      "needs_background": "light"
     },
     "output_type": "display_data"
    }
   ],
   "source": [
    "sns.lineplot(x = np.arange(len(acc)), y = acc)"
   ]
  },
  {
   "cell_type": "code",
   "execution_count": 9,
   "id": "e1a3f40a-6a56-4749-b8f0-8b3a8a9e2150",
   "metadata": {},
   "outputs": [
    {
     "name": "stdout",
     "output_type": "stream",
     "text": [
      "Test accuracy: 0.8830\n"
     ]
    }
   ],
   "source": [
    "# Evaluate on the test dataset\n",
    "Y_pred   = mnist_nn.predict(X_test)\n",
    "test_acc = np.average(np.argmax(Y_pred, axis = 0) == np.argmax(Y_test, axis = 0))\n",
    "print('Test accuracy: {:.4f}'.format(test_acc))"
   ]
  }
 ],
 "metadata": {
  "kernelspec": {
   "display_name": "Python 3 (ipykernel)",
   "language": "python",
   "name": "python3"
  },
  "language_info": {
   "codemirror_mode": {
    "name": "ipython",
    "version": 3
   },
   "file_extension": ".py",
   "mimetype": "text/x-python",
   "name": "python",
   "nbconvert_exporter": "python",
   "pygments_lexer": "ipython3",
   "version": "3.9.7"
  }
 },
 "nbformat": 4,
 "nbformat_minor": 5
}
