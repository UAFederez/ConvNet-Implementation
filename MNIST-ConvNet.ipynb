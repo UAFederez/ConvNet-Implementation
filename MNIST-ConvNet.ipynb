{
 "cells": [
  {
   "cell_type": "code",
   "execution_count": 7,
   "metadata": {},
   "outputs": [],
   "source": [
    "import numpy as np\n",
    "import time\n",
    "import math\n",
    "import tensorflow as tf\n",
    "import matplotlib.pyplot as plt\n",
    "from keras.datasets import mnist\n",
    "from sklearn.datasets import load_sample_image"
   ]
  },
  {
   "cell_type": "code",
   "execution_count": 8,
   "metadata": {},
   "outputs": [],
   "source": [
    "(X_train, Y_train), (X_test, Y_test) = mnist.load_data()"
   ]
  },
  {
   "cell_type": "code",
   "execution_count": 9,
   "metadata": {},
   "outputs": [],
   "source": [
    "X_train = X_train.reshape(-1, 1, 28, 28) / 255.0\n",
    "X_test  = X_test.reshape(-1, 1, 28, 28)  / 255.0\n",
    "Y_train = tf.keras.utils.to_categorical(Y_train).T\n",
    "Y_test  = tf.keras.utils.to_categorical(Y_test).T"
   ]
  },
  {
   "cell_type": "code",
   "execution_count": 10,
   "metadata": {},
   "outputs": [],
   "source": [
    "def sigmoid(Z):\n",
    "    return 1 / (1 + np.exp(-Z))\n",
    "\n",
    "# Expects the filters to be a 4-D ndarray (N-filters, Channels, Height, Width)\n",
    "# Expects the image to be a 4-D ndarray (ImageIdx, Channels, Height, Width)\n",
    "def convolve(image, filters, stride = 1, mode = 'valid'):\n",
    "    n_img = image.shape[0]\n",
    "    c_img = image.shape[1]\n",
    "    img_h = image.shape[2]\n",
    "    img_w = image.shape[3]    \n",
    "    \n",
    "    filter_c = filters.shape[1]\n",
    "    filter_h = filters.shape[2]\n",
    "    filter_w = filters.shape[3]\n",
    "\n",
    "    assert filter_c == c_img, 'Each filter must have the same number of channels as the image ({} != {})'.format(filter_c, c_img)\n",
    "\n",
    "    final_batch = image\n",
    "\n",
    "    if mode == 'same':\n",
    "        pad_x  = int(np.ceil((stride * (img_w - 1) - img_w + filter_w) / 2.0))\n",
    "        pad_y  = int(np.ceil((stride * (img_h - 1) - img_h + filter_h) / 2.0))\n",
    "        padded = np.zeros((n_img, c_img, img_h + pad_y * 2, img_w + pad_x * 2))\n",
    "\n",
    "        padded[:, :, pad_y:img_h+pad_y, pad_x:img_w+pad_x ] = image\n",
    "        final_batch = padded\n",
    "\n",
    "    out_h = (final_batch.shape[2] - filter_h) // stride + 1\n",
    "    out_w = (final_batch.shape[3] - filter_w) // stride + 1\n",
    "    \n",
    "    \n",
    "    stride_i = final_batch.strides[0]\n",
    "    stride_c = 0 if c_img == 1 else final_batch.strides[1]\n",
    "    stride_y = final_batch.strides[2]\n",
    "    stride_x = final_batch.strides[3]\n",
    "\n",
    "    strides  = (stride_i, stride_c, stride_y * stride, stride_x * stride, stride_y, stride_x)\n",
    "\n",
    "    windows  = np.lib.stride_tricks.as_strided(\n",
    "        final_batch,\n",
    "        shape   = (n_img, c_img, out_h, out_w, filter_h, filter_w),\n",
    "        strides = strides,\n",
    "    )\n",
    "    conv = np.einsum('xchwij,fcij->xfhw', windows, filters)\n",
    "    return conv\n",
    "\n",
    "def conv_pool(image, size, stride = 2, type = 'avg'):\n",
    "    n_img = image.shape[0]\n",
    "    c_img = image.shape[1]\n",
    "    img_h = image.shape[2]\n",
    "    img_w = image.shape[3]\n",
    "\n",
    "    assert type in ['max', 'avg'], \"Please select either 'max' or 'avg' for the pooling operation\"\n",
    "\n",
    "    out_h = (img_h - size) // stride + 1\n",
    "    out_w = (img_w - size) // stride + 1\n",
    "\n",
    "    stride_i = image.strides[0]\n",
    "    stride_c = image.strides[1]\n",
    "    stride_y = image.strides[2]\n",
    "    stride_x = image.strides[3]\n",
    "\n",
    "    strides  = (stride_i, stride_c, stride_y * stride, stride_x * stride, stride_y, stride_x)\n",
    "    windows  = np.lib.stride_tricks.as_strided(\n",
    "        image,\n",
    "        shape   = (n_img, c_img, out_h, out_w, size, size),\n",
    "        strides = strides\n",
    "    )\n",
    "\n",
    "    if type == 'max':\n",
    "        pooled = np.max(windows, axis = (4, 5))\n",
    "    else:\n",
    "        pooled = np.average(windows, axis = (4, 5))\n",
    "        \n",
    "    return pooled\n"
   ]
  },
  {
   "cell_type": "code",
   "execution_count": 11,
   "metadata": {},
   "outputs": [],
   "source": [
    "learning_rate = 1e-3\n",
    "\n",
    "class ConvLayer:\n",
    "    def __init__(self, n_filters, filter_sz, stride = 1, mode = 'valid'):\n",
    "        self.n_filters  = n_filters\n",
    "        self.filter_sz  = filter_sz\n",
    "        self.stride     = stride\n",
    "        self.mode       = mode\n",
    "\n",
    "        self.filters    = None\n",
    "        self.biases     = np.zeros((self.n_filters, 1))\n",
    "\n",
    "        self.dL_dfilter = None\n",
    "        self.dL_dbiases = None\n",
    "\n",
    "    def forward(self, input_batch):\n",
    "        self.input_batch = input_batch\n",
    "\n",
    "        if self.filters is None:\n",
    "            img_channels = self.input_batch.shape[1]\n",
    "            self.filters = np.random.randn(self.n_filters, img_channels, self.filter_sz, self.filter_sz) / np.sqrt(self.filter_sz ** 2)\n",
    "\n",
    "        self.z_out = convolve(input_batch, self.filters, self.stride, self.mode)\n",
    "        self.z_out = np.repeat(np.expand_dims(self.biases, axis = (0, 2)), self.z_out.shape[0], axis = 0) + self.z_out\n",
    "        self.a_out = np.maximum(0, self.z_out)\n",
    "\n",
    "        return self.a_out\n",
    "    \n",
    "    def backward(self, dA):\n",
    "        \n",
    "        self.dZ    = dA * (self.z_out > 0.0)\n",
    "        batch_size = self.dZ.shape[0]\n",
    "        self.dZ    = np.sum(self.dZ, axis = 0).reshape(-1, 1, *self.dZ.shape[-2::])\n",
    "        self.dW    = np.sum(convolve(self.input_batch, self.dZ, self.stride, 'valid'), axis = 0, keepdims=True) / batch_size\n",
    "        self.dW    = np.einsum('cfhw->fchw', self.dW)\n",
    "        self.dB    = np.sum(self.dZ, axis = (1, 2, 3)).reshape(-1, 1) / batch_size\n",
    "\n",
    "        self.filters -= learning_rate * self.dW\n",
    "        self.biases  -= learning_rate * self.dB\n",
    "        #print(self.dW.shape, self.filters.shape, self.dB.shape, self.biases.shape)\n",
    "\n",
    "class PoolLayer:\n",
    "    def __init__(self, filter_sz, stride = 2, pool_op = 'max'):\n",
    "        self.filter_sz = filter_sz\n",
    "        self.stride    = stride\n",
    "        self.mode      = pool_op\n",
    "\n",
    "    def forward(self, input_batch):\n",
    "        self.input_batch = input_batch\n",
    "        self.a_out = conv_pool(input_batch, self.filter_sz, self.stride, self.mode)\n",
    "\n",
    "        return self.a_out\n",
    "\n",
    "    def backward(self, dZ):\n",
    "        if self.mode == 'avg':\n",
    "            self.dZ_next = np.full(self.input_batch.shape, 1.0 / (self.filter_sz ** 2))\n",
    "            self.dZ_next *= np.tile(dZ, (1, 1, self.stride, self.stride))\n",
    "        else:\n",
    "            self.max     = np.tile(self.a_out, (1, 1, self.stride, self.stride))\n",
    "            self.dZ_next = (self.input_batch >= self.max) * np.tile(dZ, (1, 1, self.stride, self.stride))\n",
    "        return self.dZ_next\n",
    "\n",
    "\n",
    "class FlattenLayer:\n",
    "    def __init__(self):\n",
    "        pass\n",
    "\n",
    "    def forward(self, input_batch):\n",
    "        self.orig_shape = input_batch.shape\n",
    "        self.z_out = input_batch.reshape(self.orig_shape[0], -1).T\n",
    "        return self.z_out\n",
    "\n",
    "    def backward(self, dZ):\n",
    "        self.dZ_next = dZ.reshape(self.orig_shape)\n",
    "        return self.dZ_next\n",
    "\n",
    "class DenseLayer:\n",
    "    def __init__(self, n_units, activation, is_output):\n",
    "        self.n_units    = n_units\n",
    "        self.activation = activation\n",
    "\n",
    "        self.weights    = None\n",
    "        self.biases     = np.zeros((self.n_units, 1))\n",
    "        self.is_output  = is_output\n",
    "\n",
    "    def forward(self, input_batch):\n",
    "        self.input_batch = input_batch\n",
    "        self.batch_size  = input_batch.shape[1]\n",
    "\n",
    "        if self.weights is None:\n",
    "            num_input    = self.input_batch.shape[0]\n",
    "            self.weights = np.random.randn(self.n_units, num_input) / np.sqrt(num_input)\n",
    "        \n",
    "        self.z_out  = np.dot(self.weights, self.input_batch) + self.biases\n",
    "        self.z_out -= self.z_out.max()\n",
    "        self.a_out  = np.exp(self.z_out) / np.sum(np.exp(self.z_out), axis = 0)\n",
    "\n",
    "        return self.a_out\n",
    "\n",
    "    def backward(self, dZ):\n",
    "        self.dZ = dZ\n",
    "        self.dW = np.dot(self.dZ, self.input_batch.T) / self.batch_size\n",
    "        self.db = np.sum(self.dZ, axis = 1, keepdims = True) / self.batch_size\n",
    "\n",
    "        self.dZ_next = np.dot(self.weights.T, self.dZ)\n",
    "\n",
    "        self.weights -= learning_rate * self.dW\n",
    "        self.biases  -= learning_rate * self.db\n",
    "        return self.dZ_next"
   ]
  },
  {
   "cell_type": "code",
   "execution_count": 12,
   "metadata": {},
   "outputs": [
    {
     "name": "stdout",
     "output_type": "stream",
     "text": [
      "epoch: [ 1/ 2] [==============================] - loss: 1.7324 - accuracy: 0.8800\n",
      "epoch: [ 2/ 2] [==============================] - loss: 1.2533 - accuracy: 0.9200\n"
     ]
    }
   ],
   "source": [
    "conv1  = ConvLayer(n_filters = 100, filter_sz = 5, stride = 1, mode = 'same')\n",
    "flat1  = FlattenLayer()\n",
    "pool1  = PoolLayer(2, 2, 'max')\n",
    "dense1 = DenseLayer(n_units = 10, activation = 'softmax', is_output = True)\n",
    "\n",
    "n_epoch = 2\n",
    "\n",
    "TOTAL_SZ  = 6000\n",
    "BATCH_SZ  = 50\n",
    "\n",
    "X_batches = np.array(np.split(X_train[:TOTAL_SZ], TOTAL_SZ / BATCH_SZ, axis = 0))\n",
    "Y_batches = np.array(np.split(Y_train[:, :TOTAL_SZ], TOTAL_SZ / BATCH_SZ, axis = 1))\n",
    "losses    = []\n",
    "accuracy  = []\n",
    "for epoch in range(n_epoch):\n",
    "    for batch_idx in range(TOTAL_SZ // BATCH_SZ):\n",
    "        \n",
    "        batch_X = X_batches[batch_idx]\n",
    "        batch_Y = Y_batches[batch_idx]\n",
    "\n",
    "        forward_out  = conv1.forward(batch_X)\n",
    "        forward_out  = pool1.forward(forward_out)\n",
    "        forward_out  = flat1.forward(forward_out)\n",
    "        forward_out  = dense1.forward(forward_out)\n",
    "        \n",
    "        loss = -(batch_Y * np.log(forward_out + 1e-5) + (1 - batch_Y) * np.log(1 - forward_out + 1e-5))\n",
    "        loss = np.sum(loss, axis = 0)\n",
    "        cost = np.average(loss)\n",
    "        \n",
    "        acc  = np.average(np.argmax(forward_out, axis = 0) == np.argmax(batch_Y, axis = 0))\n",
    "\n",
    "        losses.append(cost)\n",
    "        accuracy.append(acc)\n",
    "\n",
    "        backward_out = forward_out - batch_Y\n",
    "        backward_out = dense1.backward(backward_out)\n",
    "        backward_out = flat1.backward(backward_out)\n",
    "        backward_out = pool1.backward(backward_out)\n",
    "        backward_out = conv1.backward(backward_out)\n",
    "\n",
    "        progress_batch = batch_idx / X_batches.shape[0]\n",
    "        progress_bar   = ('=' * (math.ceil(progress_batch * 30)))\n",
    "        progress_bar   = progress_bar + (' ' * (30 - len(progress_bar)))\n",
    "        output_string  = 'epoch: [{:2}/{:2}] [{}] - loss: {:.4f} - accuracy: {:.4f}'.format(epoch+1, n_epoch, progress_bar, cost, acc)\n",
    "        print(output_string, end = '\\r')\n",
    "    print()"
   ]
  },
  {
   "cell_type": "code",
   "execution_count": 13,
   "metadata": {},
   "outputs": [
    {
     "data": {
      "text/plain": [
       "[<matplotlib.lines.Line2D at 0x1a71b3bed30>]"
      ]
     },
     "execution_count": 13,
     "metadata": {},
     "output_type": "execute_result"
    },
    {
     "data": {
      "image/png": "[encoded data removed]",
      "text/plain": [
       "<Figure size 432x288 with 1 Axes>"
      ]
     },
     "metadata": {
      "needs_background": "light"
     },
     "output_type": "display_data"
    }
   ],
   "source": [
    "plt.title('Loss vs mini-batch iteration')\n",
    "plt.xlabel('mini-batch')\n",
    "plt.ylabel('loss')\n",
    "plt.plot(losses)"
   ]
  },
  {
   "cell_type": "code",
   "execution_count": 14,
   "metadata": {},
   "outputs": [
    {
     "data": {
      "text/plain": [
       "[<matplotlib.lines.Line2D at 0x1a71b4b65b0>]"
      ]
     },
     "execution_count": 14,
     "metadata": {},
     "output_type": "execute_result"
    },
    {
     "data": {
      "image/png": "[encoded data removed]",
      "text/plain": [
       "<Figure size 432x288 with 1 Axes>"
      ]
     },
     "metadata": {
      "needs_background": "light"
     },
     "output_type": "display_data"
    }
   ],
   "source": [
    "plt.title('Accuracy vs mini-batch iteration')\n",
    "plt.xlabel('mini-batch')\n",
    "plt.ylabel('accuracy')\n",
    "plt.plot(accuracy)"
   ]
  },
  {
   "cell_type": "code",
   "execution_count": 15,
   "metadata": {},
   "outputs": [
    {
     "name": "stdout",
     "output_type": "stream",
     "text": [
      "Test accuray: 0.8360\n"
     ]
    }
   ],
   "source": [
    "forward_out  = conv1.forward(X_test)\n",
    "forward_out  = pool1.forward(forward_out)\n",
    "forward_out  = flat1.forward(forward_out)\n",
    "forward_out  = dense1.forward(forward_out)\n",
    "print('Test accuray: {:.4f}'.format(np.average(np.argmax(forward_out, axis = 0) == np.argmax(Y_test, axis = 0))))"
   ]
  }
 ],
 "metadata": {
  "interpreter": {
   "hash": "61e67cf2922c505f9c127a1fd273afa8b0bf96906708816295abaeccd8a3368f"
  },
  "kernelspec": {
   "display_name": "Python 3.9.7 ('base')",
   "language": "python",
   "name": "python3"
  },
  "language_info": {
   "codemirror_mode": {
    "name": "ipython",
    "version": 3
   },
   "file_extension": ".py",
   "mimetype": "text/x-python",
   "name": "python",
   "nbconvert_exporter": "python",
   "pygments_lexer": "ipython3",
   "version": "3.9.7"
  },
  "orig_nbformat": 4
 },
 "nbformat": 4,
 "nbformat_minor": 2
}
